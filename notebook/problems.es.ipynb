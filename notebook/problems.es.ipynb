{
 "cells": [
  {
   "cell_type": "markdown",
   "id": "d9d036c6",
   "metadata": {},
   "source": [
    "# Problemas de prueba de hipótesis"
   ]
  },
  {
   "cell_type": "markdown",
   "id": "d157c4db",
   "metadata": {},
   "source": [
    "## Ejercicio 1\n",
    "\n",
    "Usted es un nutricionista que investiga dos tipos diferentes de dietas para ver si existe una diferencia significativa en la pérdida de peso después de un mes. Eliges dos grupos aleatorios de personas; un grupo sigue la primera dieta y el otro sigue la segunda. Al final del mes, se registra la pérdida de peso (en kg) de cada persona:\n",
    "\n",
    "| Diet 1 | Diet 2 |\n",
    "|:-------|:-------|\n",
    "| 2.0 | 3.0 |\n",
    "| 2.5 | 3.2 |\n",
    "| 3.0 | 3.1 |\n",
    "| 2.8 | 2.9 |\n",
    "| 2.3 | 2.8 |\n",
    "| 2.7 | 3.0 |\n",
    "| 2.5 | 3.2 |\n",
    "\n",
    "Con estos datos se busca responder a la siguiente pregunta: ¿Existe una diferencia significativa en la pérdida de peso promedio entre las personas que siguieron la primera dieta y las que siguieron la segunda dieta?\n",
    "\n",
    "Para sacar conclusiones, siga los siguientes puntos:\n",
    "\n",
    "-Enunciar la hipótesis: hipótesis nula y alternativa.\n",
    "-Realizar la prueba para comprobar la hipótesis. Puede utilizar la prueba t de Student.\n",
    "-Analizar las conclusiones."
   ]
  },
  {
   "cell_type": "code",
   "execution_count": 1,
   "id": "8e0f3cf0",
   "metadata": {},
   "outputs": [],
   "source": [
    "#Hipótesis nula (₀): No hay diferencia en la pérdida de peso promedio entre las dos dietas.\n",
    "\n",
    "#Hipótesis alternativa (₁): Hay una diferencia en la pérdida de peso promedio entre las dos dietas."
   ]
  },
  {
   "cell_type": "code",
   "execution_count": 2,
   "id": "ed53b28d",
   "metadata": {},
   "outputs": [
    {
     "name": "stdout",
     "output_type": "stream",
     "text": [
      "Estadístico t: -3.5383407969933938\n",
      "Valor p: 0.004083270191713912\n"
     ]
    }
   ],
   "source": [
    "import numpy as np\n",
    "from scipy import stats\n",
    "\n",
    "# Datos de las dietas\n",
    "diet_1 = np.array([2.0, 2.5, 3.0, 2.8, 2.3, 2.7, 2.5])\n",
    "diet_2 = np.array([3.0, 3.2, 3.1, 2.9, 2.8, 3.0, 3.2])\n",
    "\n",
    "# Realizar la prueba t de Student para dos muestras independientes\n",
    "t_statistic, p_value = stats.ttest_ind(diet_1, diet_2)\n",
    "\n",
    "# Mostrar los resultados\n",
    "print(f\"Estadístico t: {t_statistic}\")\n",
    "print(f\"Valor p: {p_value}\")"
   ]
  },
  {
   "cell_type": "markdown",
   "id": "3d8056e0",
   "metadata": {},
   "source": [
    "Dado que el valor p es 0.0041, que es menor que el nivel de significancia del 5% (0.05), se rechaza la hipótesis nula. Esto significa que existe una diferencia estadísticamente significativa en la pérdida de peso entre las dos dietas.\n",
    "\n",
    "En conclusión, los resultados sugieren que las dietas tienen efectos diferentes en la pérdida de peso y esta diferencia es significativa desde el punto de vista estadístico."
   ]
  },
  {
   "cell_type": "markdown",
   "id": "f432e18e",
   "metadata": {},
   "source": [
    "## ANOVA\n",
    "\n",
    "**ANOVA** (*Analysis of Variance - Análisis de variación*) Es una técnica estadística utilizada para comparar las medidas de dos o más grupos. La idea detrás de ANOVA es descomponer la variabilidad total de los datos en dos componentes: variabilidad entre grupos y variabilidad dentro de los grupos:\n",
    "\n",
    "- **Variabilidad entre grupos**: Esta variabilidad se refiere a las diferencias entre las medias del grupo. Si esta variabilidad es considerablemente mayor que la variabilidad dentro del grupo, podría ser una indicación de que al menos una de las medias del grupo es diferente.\n",
    "- **Variabilidad dentro del grupo**: Esta variabilidad se refiere a la dispersión de los datos dentro de cada grupo. Si todos los grupos tienen una variabilidad similar, entonces cualquier diferencia notable en las medias de los grupos podría considerarse significativa.\n",
    "\n",
    "Las hipótesis en ANOVA suelen incluir:\n",
    "\n",
    "- **Hipótesis nula** ($H₀$): Las medias de todos los grupos son iguales.\n",
    "- **Hipótesis alternativa** ($H₁$): Al menos una de las medias del grupo es diferente.\n",
    "\n",
    "Si el resultado de la prueba ANOVA es significativo (por ejemplo, un valor p inferior a un umbral como 0,05), esto sugiere que al menos la media de un grupo es diferente."
   ]
  },
  {
   "cell_type": "markdown",
   "id": "fc5f3721",
   "metadata": {},
   "source": [
    "## Ejercicio 2\n",
    "\n",
    "Un agricultor decide probar tres tipos diferentes de fertilizantes para determinar si alguno es superior en términos de producción de maíz. El agricultor planta maíz en 15 parcelas idénticas y utiliza los tres fertilizantes (5 parcelas para cada tipo). Al final de la temporada mide el rendimiento de maíz (en kg) de cada parcela, con el siguiente resultado:\n",
    "\n",
    "| Fertilizante 1 | Fertilizante 2 | Fertilizante 3 |\n",
    "|:-------------|:-------------|:-------------|\n",
    "| 20 | 22 | 24 |\n",
    "| 21 | 21 | 23 |\n",
    "| 20 | 23 | 22 |\n",
    "| 19 | 22 | 23 |\n",
    "| 20 | 21 | 24 |\n",
    "\n",
    "Con estos datos busca responder la siguiente pregunta: ¿Existe una diferencia significativa en el rendimiento promedio del maíz entre los tres tipos de fertilizantes?\n",
    "\n",
    "Para ayudarte, sigue los siguientes puntos:\n",
    "\n",
    "-Enunciar la hipótesis: hipótesis nula y alternativa.\n",
    "-Realizar la prueba ANOVA.\n",
    "-Analizar las conclusiones.\n",
    "-Si un fertilizante es mejor que otro, ¿cómo podemos saberlo?"
   ]
  },
  {
   "cell_type": "code",
   "execution_count": 3,
   "id": "eecad0ca",
   "metadata": {},
   "outputs": [],
   "source": [
    "# Hipótesis nula (₀): Los promedios de rendimiento de maíz de los tres fertilizantes son iguales.\n",
    "\n",
    "#Hipótesis alternativa (₁): Al menos uno de los promedios de rendimiento de maíz de los fertilizantes es diferente."
   ]
  },
  {
   "cell_type": "code",
   "execution_count": 4,
   "id": "242d50c1",
   "metadata": {},
   "outputs": [
    {
     "name": "stdout",
     "output_type": "stream",
     "text": [
      "Valor F: 20.315789473684188\n",
      "Valor p: 0.00014047824793190472\n",
      "Rechazamos la hipótesis nula. Al menos un fertilizante tiene un rendimiento diferente.\n"
     ]
    }
   ],
   "source": [
    "import scipy.stats as stats\n",
    "\n",
    "# Datos de rendimiento de maíz para cada fertilizante\n",
    "fertilizer_1 = [20, 21, 20, 19, 20]\n",
    "fertilizer_2 = [22, 21, 23, 22, 21]\n",
    "fertilizer_3 = [24, 23, 22, 23, 24]\n",
    "\n",
    "# Realizar la prueba ANOVA de una vía\n",
    "f_value, p_value = stats.f_oneway(fertilizer_1, fertilizer_2, fertilizer_3)\n",
    "\n",
    "# Mostrar los resultados\n",
    "print(f\"Valor F: {f_value}\")\n",
    "print(f\"Valor p: {p_value}\")\n",
    "\n",
    "# Determinar si rechazar o no la hipótesis nula\n",
    "alpha = 0.05\n",
    "if p_value < alpha:\n",
    "    print(\"Rechazamos la hipótesis nula. Al menos un fertilizante tiene un rendimiento diferente.\")\n",
    "else:\n",
    "    print(\"No rechazamos la hipótesis nula. No hay diferencias significativas entre los fertilizantes.\")"
   ]
  },
  {
   "cell_type": "markdown",
   "id": "ef7b32a4",
   "metadata": {},
   "source": [
    "Al obtener un valor p de 0.00014, que es significativamente menor que el nivel de significancia de 0.05, rechazamos la hipótesis nula. Esto significa que al menos uno de los fertilizantes presenta un rendimiento promedio de maíz diferente en comparación con los otros. Por lo tanto, se puede concluir que hay diferencias significativas en los efectos de los fertilizantes sobre el rendimiento de maíz."
   ]
  },
  {
   "cell_type": "markdown",
   "id": "61659005",
   "metadata": {},
   "source": [
    "**Obtención del mejor fertilizante**"
   ]
  },
  {
   "cell_type": "code",
   "execution_count": 5,
   "id": "cad941a4",
   "metadata": {},
   "outputs": [
    {
     "name": "stdout",
     "output_type": "stream",
     "text": [
      "                  sum_sq    df          F   PR(>F)\n",
      "C(Fertilizer)  25.733333   2.0  20.315789  0.00014\n",
      "Residual        7.600000  12.0        NaN      NaN\n",
      "Multiple Comparison of Means - Tukey HSD, FWER=0.05\n",
      "==================================================\n",
      "group1 group2 meandiff p-adj  lower  upper  reject\n",
      "--------------------------------------------------\n",
      "    F1     F2      1.8 0.0099 0.4572 3.1428   True\n",
      "    F1     F3      3.2 0.0001 1.8572 4.5428   True\n",
      "    F2     F3      1.4 0.0409 0.0572 2.7428   True\n",
      "--------------------------------------------------\n"
     ]
    }
   ],
   "source": [
    "import numpy as np\n",
    "import statsmodels.api as sm\n",
    "from statsmodels.formula.api import ols\n",
    "from statsmodels.stats.multicomp import pairwise_tukeyhsd\n",
    "\n",
    "# Concatenar los datos\n",
    "data = np.concatenate([fertilizer_1, fertilizer_2, fertilizer_3])\n",
    "labels = [\"F1\"] * len(fertilizer_1) + [\"F2\"] * len(fertilizer_2) + [\"F3\"] * len(fertilizer_3)\n",
    "\n",
    "# Crear un DataFrame para la ANOVA\n",
    "import pandas as pd\n",
    "df = pd.DataFrame({\"Yield\": data, \"Fertilizer\": labels})\n",
    "\n",
    "# Ajustar el modelo ANOVA\n",
    "model = ols('Yield ~ C(Fertilizer)', data=df).fit()\n",
    "anova_table = sm.stats.anova_lm(model, typ=2)\n",
    "\n",
    "# Realizar la prueba de Tukey\n",
    "tukey_result = pairwise_tukeyhsd(df['Yield'], df['Fertilizer'], alpha=0.05)\n",
    "\n",
    "# Mostrar resultados\n",
    "print(anova_table)\n",
    "print(tukey_result)"
   ]
  }
 ],
 "metadata": {
  "kernelspec": {
   "display_name": "Python 3",
   "language": "python",
   "name": "python3"
  },
  "language_info": {
   "codemirror_mode": {
    "name": "ipython",
    "version": 3
   },
   "file_extension": ".py",
   "mimetype": "text/x-python",
   "name": "python",
   "nbconvert_exporter": "python",
   "pygments_lexer": "ipython3",
   "version": "3.11.4"
  }
 },
 "nbformat": 4,
 "nbformat_minor": 5
}
